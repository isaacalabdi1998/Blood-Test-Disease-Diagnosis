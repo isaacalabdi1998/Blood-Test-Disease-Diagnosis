# Blood-Test-Disease-Diagnosis
{
 "cells": [
  {
   "cell_type": "markdown",
   "id": "419a1b3f",
   "metadata": {},
   "source": [
    "# Artifical Intellgince Course Final Project"
   ]
  },
  {
   "cell_type": "markdown",
   "id": "b5b1dddd",
   "metadata": {},
   "source": [
    "###### Project Description: Blood Test Disease Diagnosis, This Project Will Determine Whether A Blood Test Sample Has Malaria Or Not.\n",
    "\n",
    "###### Team Members :\n",
    "\n",
    "######    - MOHAMMAD ALMOHAMMAD, 1810213528\n",
    "\n",
    "######    - ISAAC ALABADI, 1910213588\n",
    "\n",
    "######    - AHMED ALAHMAR, 1810213527\n",
    "\n",
    "######    - Ayman Al-arabi, 1910213589\n",
    "\n",
    "######    - Osama Aldubhani, 2017710213455"
   ]
  },
  {
   "cell_type": "markdown",
   "id": "d3d3a961",
   "metadata": {},
   "source": [
    "# 1- Importing Libraries"
   ]
  },
  {
   "cell_type": "code",
   "execution_count": 291,
   "id": "e2b5734e",
   "metadata": {},
   "outputs": [],
   "source": [
    "import cv2\n",
    "import numpy as np\n",
    "import matplotlib.pyplot as plt\n",
    "import os"
   ]
  },
  {
   "cell_type": "markdown",
   "id": "34f92fdf",
   "metadata": {},
   "source": [
    "# 2- Loading The Image Dataset"
   ]
  },
  {
   "cell_type": "code",
   "execution_count": 292,
   "id": "c770faa7",
   "metadata": {},
   "outputs": [
    {
     "name": "stdout",
     "output_type": "stream",
     "text": [
      "(12000, 75, 75, 3)\n",
      "(12000,)\n"
     ]
    }
   ],
   "source": [
    "path=\"..\\\\AIProject\\\\Dataset\\\\cell_images\"\n",
    "data=[]\n",
    "label=[]\n",
    "\n",
    "\n",
    "\n",
    "for folder in os.listdir(path):\n",
    "    joined_path=os.path.join(path,folder)\n",
    "    count=0 # read only up to 6000 images in each folder to reduce data size\n",
    "    for image in os.listdir(joined_path):\n",
    "        if count<6000:\n",
    "            try:\n",
    "                path_to_img=joined_path+\"\\\\\"+image\n",
    "                img=cv2.resize(cv2.imread(path_to_img),(75,75)) #resize all images into 75 by 75 pixels\n",
    "                data.append(img)\n",
    "        \n",
    "                if folder == \"Parasitized\":\n",
    "                    label.append(0) # label is 0 if its infected, 1 otherwise\n",
    "                else:\n",
    "                    label.append(1)\n",
    "                count=count+1\n",
    "            except Exception as e:\n",
    "                pass # handle any exception and do nothing\n",
    "     \n",
    "        else:\n",
    "            break\n",
    "\n",
    "label=np.array(label)\n",
    "data=np.array(data)\n",
    "print(data.shape) \n",
    "print(label.shape) #should be equal to number of samples read, ie images.\n"
   ]
  },
  {
   "cell_type": "markdown",
   "id": "48ff5f79",
   "metadata": {},
   "source": [
    "# 3- Data Preprocessing"
   ]
  },
  {
   "cell_type": "markdown",
   "id": "1f63a3d6",
   "metadata": {},
   "source": [
    "###### Before Applying Any Algorithm On The Data.Some Steps Must Be Performed First, Which Are :\n",
    "\n",
    "######    1- the format of the data should be (n_samples,n_features), where the features are the pixels in this case. to do this we need to multiply the height,width and channel together.\n",
    "\n",
    "######   2- Normalize the feature values to be between 0 and 1\n",
    "\n",
    "######   3- the data must be split into a training an test set to avoid overfitting and to achieve higher model accuracy"
   ]
  },
  {
   "cell_type": "code",
   "execution_count": 293,
   "id": "a09e9c2e",
   "metadata": {},
   "outputs": [
    {
     "name": "stdout",
     "output_type": "stream",
     "text": [
      "Data Format Before Conversion (12000, 75, 75, 3)\n",
      "Data Format Before Conversion (12000, 16875)\n"
     ]
    }
   ],
   "source": [
    "# first, convert data into (n_samples,n_features)\n",
    "\n",
    "n_samples=len(data)\n",
    "\n",
    "print(\"Data Format Before Conversion\",data.shape)\n",
    "\n",
    "data=data.reshape(n_samples,-1)\n",
    "\n",
    "print(\"Data Format Before Conversion\",data.shape)\n"
   ]
  },
  {
   "cell_type": "code",
   "execution_count": 294,
   "id": "282071e0",
   "metadata": {},
   "outputs": [
    {
     "name": "stdout",
     "output_type": "stream",
     "text": [
      "Max and Min Value Before Normalization 255, 0\n",
      "Max and Min Value After Normalization 1.0, 0.0\n"
     ]
    }
   ],
   "source": [
    "# Normalize Dataset\n",
    "from sklearn.preprocessing import MinMaxScaler\n",
    "\n",
    "print(f\"Max and Min Value Before Normalization {np.max(data)}, {np.min(data)}\")\n",
    "scaler=MinMaxScaler() # Should be 255 and 0 Before Normalization Process\n",
    "\n",
    "scaled_data=scaler.fit_transform(data)\n",
    "\n",
    "print(f\"Max and Min Value After Normalization {np.max(scaled_data)}, {np.min(scaled_data)}\")\n",
    "# Should be 1 and 0 After Normalization Process"
   ]
  },
  {
   "cell_type": "code",
   "execution_count": 272,
   "id": "6c71856e",
   "metadata": {},
   "outputs": [],
   "source": [
    "from sklearn.model_selection import train_test_split\n",
    "\n",
    "# Train Test Split Step, Dataset Will Be Split Into 75% Used For Training, The Other 25% For Testing\n",
    "\n",
    "x_train,x_test,y_train,y_test=train_test_split(scaled_data,label,test_size=0.25,random_state=100)"
   ]
  },
  {
   "cell_type": "code",
   "execution_count": 273,
   "id": "704428f9",
   "metadata": {},
   "outputs": [
    {
     "name": "stdout",
     "output_type": "stream",
     "text": [
      "(9000, 16875) (3000, 16875) (9000,) (3000,)\n"
     ]
    }
   ],
   "source": [
    "print(x_train.shape,x_test.shape,y_train.shape,y_test.shape)"
   ]
  },
  {
   "cell_type": "markdown",
   "id": "30fccdf5",
   "metadata": {},
   "source": [
    "# 4- Model Selection"
   ]
  },
  {
   "cell_type": "markdown",
   "id": "8f101894",
   "metadata": {},
   "source": [
    "###### Multiple Algorithms Will Be Implemented, Including :\n",
    "\n",
    "######   1- Random Forest Classifier\n",
    "######   2- K-Nearest Neighbor\n",
    "######   3- Logistic Regression\n",
    "######   4- Support Vector Machine"
   ]
  },
  {
   "cell_type": "markdown",
   "id": "f4d4946b",
   "metadata": {},
   "source": [
    "### Random Forest Model"
   ]
  },
  {
   "cell_type": "code",
   "execution_count": 274,
   "id": "ec7fbe1b",
   "metadata": {},
   "outputs": [],
   "source": [
    "from sklearn.ensemble import RandomForestClassifier\n",
    "\n",
    "rf_clf=RandomForestClassifier(n_estimators=200,random_state=100)\n",
    "\n",
    "rf_clf.fit(x_train,y_train)\n",
    "\n",
    "rf_y_pred=rf_clf.predict(x_test)\n",
    "\n"
   ]
  },
  {
   "cell_type": "code",
   "execution_count": 285,
   "id": "790661d8",
   "metadata": {},
   "outputs": [
    {
     "data": {
      "text/plain": [
       "0.8263333333333334"
      ]
     },
     "execution_count": 285,
     "metadata": {},
     "output_type": "execute_result"
    }
   ],
   "source": [
    "from sklearn.metrics import accuracy_score,confusion_matrix,ConfusionMatrixDisplay\n",
    "\n",
    "rf_score=accuracy_score(y_test,rf_y_pred)\n",
    "\n",
    "score"
   ]
  },
  {
   "cell_type": "code",
   "execution_count": 286,
   "id": "5d5b63f9",
   "metadata": {},
   "outputs": [
    {
     "data": {
      "image/png": "[encoded data removed]",
      "text/plain": [
       "<Figure size 432x288 with 2 Axes>"
      ]
     },
     "metadata": {
      "needs_background": "light"
     },
     "output_type": "display_data"
    }
   ],
   "source": [
    "# What is a Confusion Matrix? https://www.w3schools.com/python/python_ml_confusion_matrix.asp\n",
    "\n",
    "rf_cm=confusion_matrix(y_test,rf_y_pred)\n",
    "\n",
    "show_matrix=ConfusionMatrixDisplay(confusion_matrix=rf_cm,display_labels=[False,True])\n",
    "\n",
    "show_matrix.plot()\n",
    "plt.show()"
   ]
  },
  {
   "cell_type": "markdown",
   "id": "5926646b",
   "metadata": {},
   "source": [
    "### K-Nearest Neighbors Model"
   ]
  },
  {
   "cell_type": "code",
   "execution_count": 210,
   "id": "1e6491dd",
   "metadata": {},
   "outputs": [],
   "source": [
    "from sklearn.neighbors import KNeighborsClassifier\n",
    "\n",
    "\n",
    "knn_clf=KNeighborsClassifier(n_neighbors=3)\n",
    "\n",
    "knn_clf.fit(x_train,y_train)\n",
    "\n",
    "knn_y_pred=knn_clf.predict(x_test)\n",
    "\n"
   ]
  },
  {
   "cell_type": "code",
   "execution_count": 211,
   "id": "5a4dc333",
   "metadata": {},
   "outputs": [
    {
     "data": {
      "text/plain": [
       "0.6196666666666667"
      ]
     },
     "execution_count": 211,
     "metadata": {},
     "output_type": "execute_result"
    }
   ],
   "source": [
    "knn_score=accuracy_score(y_test,knn_y_pred)\n",
    "\n",
    "knn_score"
   ]
  },
  {
   "cell_type": "code",
   "execution_count": 287,
   "id": "667d6c49",
   "metadata": {},
   "outputs": [
    {
     "data": {
      "image/png": "[encoded data removed]",
      "text/plain": [
       "<Figure size 432x288 with 2 Axes>"
      ]
     },
     "metadata": {
      "needs_background": "light"
     },
     "output_type": "display_data"
    }
   ],
   "source": [
    "knn_cm=confusion_matrix(y_test,knn_y_pred)\n",
    "\n",
    "show_matrix=ConfusionMatrixDisplay(confusion_matrix=knn_cm,display_labels=[False,True])\n",
    "\n",
    "show_matrix.plot()\n",
    "plt.show()"
   ]
  },
  {
   "cell_type": "markdown",
   "id": "6ded96de",
   "metadata": {},
   "source": [
    "### Logistic Regression Model"
   ]
  },
  {
   "cell_type": "code",
   "execution_count": 222,
   "id": "146ff411",
   "metadata": {},
   "outputs": [
    {
     "name": "stderr",
     "output_type": "stream",
     "text": [
      "C:\\ProgramData\\Anaconda3\\lib\\site-packages\\sklearn\\linear_model\\_sag.py:328: ConvergenceWarning: The max_iter was reached which means the coef_ did not converge\n",
      "  warnings.warn(\"The max_iter was reached which means \"\n"
     ]
    }
   ],
   "source": [
    "from sklearn.linear_model import LogisticRegression\n",
    "\n",
    "lr_clf=LogisticRegression(solver='saga') # The 'Saga' Solver is Most Appropiate For Large Datasets\n",
    "\n",
    "lr_clf.fit(x_train,y_train)\n",
    "\n",
    "lr_y_pred=lr_clf.predict(x_test)"
   ]
  },
  {
   "cell_type": "code",
   "execution_count": 223,
   "id": "ec54cfde",
   "metadata": {},
   "outputs": [
    {
     "data": {
      "text/plain": [
       "0.6733333333333333"
      ]
     },
     "execution_count": 223,
     "metadata": {},
     "output_type": "execute_result"
    }
   ],
   "source": [
    "lr_score=accuracy_score(y_test,lr_y_pred)\n",
    "lr_score\n"
   ]
  },
  {
   "cell_type": "code",
   "execution_count": 288,
   "id": "e12b8a28",
   "metadata": {},
   "outputs": [
    {
     "data": {
      "image/png": "[encoded data removed]",
      "text/plain": [
       "<Figure size 432x288 with 2 Axes>"
      ]
     },
     "metadata": {
      "needs_background": "light"
     },
     "output_type": "display_data"
    }
   ],
   "source": [
    "lr_cm=confusion_matrix(y_test,lr_y_pred)\n",
    "show_matrix=ConfusionMatrixDisplay(confusion_matrix=lr_cm,display_labels=[False,True])\n",
    "\n",
    "show_matrix.plot()\n",
    "plt.show()\n"
   ]
  },
  {
   "cell_type": "markdown",
   "id": "26acd8ad",
   "metadata": {},
   "source": [
    "### Support Vector Machine Model"
   ]
  },
  {
   "cell_type": "code",
   "execution_count": 226,
   "id": "f949d39c",
   "metadata": {},
   "outputs": [],
   "source": [
    "from sklearn.svm import SVC\n",
    "\n",
    "svm_clf=SVC(kernel='linear')\n",
    "\n",
    "svm_clf.fit(x_train,y_train)\n",
    "\n",
    "svm_y_pred=svm_clf.predict(x_test)\n"
   ]
  },
  {
   "cell_type": "code",
   "execution_count": 227,
   "id": "17240ac5",
   "metadata": {},
   "outputs": [
    {
     "data": {
      "text/plain": [
       "0.639"
      ]
     },
     "execution_count": 227,
     "metadata": {},
     "output_type": "execute_result"
    }
   ],
   "source": [
    "svm_score=accuracy_score(y_test,svm_y_pred)\n",
    "\n",
    "svm_score"
   ]
  },
  {
   "cell_type": "code",
   "execution_count": 289,
   "id": "2197d92b",
   "metadata": {},
   "outputs": [
    {
     "data": {
      "image/png": "[encoded data removed]",
      "text/plain": [
       "<Figure size 432x288 with 2 Axes>"
      ]
     },
     "metadata": {
      "needs_background": "light"
     },
     "output_type": "display_data"
    }
   ],
   "source": [
    "svm_cm=confusion_matrix(y_test,svm_y_pred)\n",
    "\n",
    "show_matrix=ConfusionMatrixDisplay(confusion_matrix=svm_cm,display_labels=[False,True])\n",
    "\n",
    "show_matrix.plot()\n",
    "plt.show()"
   ]
  },
  {
   "cell_type": "markdown",
   "id": "2ee6ee86",
   "metadata": {},
   "source": [
    "# 4- Model Selection"
   ]
  },
  {
   "cell_type": "markdown",
   "id": "cb116b9e",
   "metadata": {},
   "source": [
    "### Since The Random Forest Model Is The Best Performing Model, This Model Will Be Chosen."
   ]
  },
  {
   "cell_type": "code",
   "execution_count": 265,
   "id": "bd04a358",
   "metadata": {},
   "outputs": [
    {
     "name": "stdout",
     "output_type": "stream",
     "text": [
      "Not Infected\n"
     ]
    }
   ],
   "source": [
    "# A Final Test\n",
    "\n",
    "choice=np.random.randint(len(x_test)) # choose a test image at random\n",
    "\n",
    "sample_img=x_test[choice].reshape(75,75,3)\n",
    "\n",
    "cv2.imshow(\"img\",sample_img)\n",
    "cv2.waitKey()\n",
    "\n",
    "\n",
    "result=rf_clf.predict(x_test[choice].reshape(1,-1))\n",
    "\n",
    "print(\"Infected With Malaria\" if not result[0] else \"Not Infected\")\n",
    "\n"
   ]
  },
  {
   "cell_type": "markdown",
   "id": "4ea16483",
   "metadata": {},
   "source": [
    "# 5- Final Thoughts And Some Considerations"
   ]
  },
  {
   "cell_type": "markdown",
   "id": "d76a5844",
   "metadata": {},
   "source": [
    "###### The Random Forest Model Can Be Used To Obtain Accurate Results, But To Increase The Accuracy Of The Model Even Further, There Are A Few Thing That Can Be Done, Such As :\n",
    "\n",
    "######     - Applying Principal Component Analysis To Reduce Feature Size And To Obtain Only The Most Important Pixel Information\n",
    "\n",
    "######     -  Hyperparameter Tuning\n",
    "\n",
    "######     - Increase Sample Size"
   ]
  },
  {
   "cell_type": "markdown",
   "id": "4862be81",
   "metadata": {},
   "source": [
    "# END OF PROJECT"
   ]
  }
 ],
 "metadata": {
  "kernelspec": {
   "display_name": "Python 3 (ipykernel)",
   "language": "python",
   "name": "python3"
  },
  "language_info": {
   "codemirror_mode": {
    "name": "ipython",
    "version": 3
   },
   "file_extension": ".py",
   "mimetype": "text/x-python",
   "name": "python",
   "nbconvert_exporter": "python",
   "pygments_lexer": "ipython3",
   "version": "3.9.7"
  }
 },
 "nbformat": 4,
 "nbformat_minor": 5
}
